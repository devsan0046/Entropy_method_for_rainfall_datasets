{
  "nbformat": 4,
  "nbformat_minor": 0,
  "metadata": {
    "colab": {
      "name": "PMP_gauge_grid.ipynb",
      "provenance": []
    },
    "kernelspec": {
      "display_name": "Python 3",
      "name": "python3"
    }
  },
  "cells": [
    {
      "cell_type": "markdown",
      "metadata": {
        "id": "wYlGdYPecSLM"
      },
      "source": [
        "# PMP Guage data"
      ]
    },
    {
      "cell_type": "code",
      "metadata": {
        "id": "u2opNzh2o38c"
      },
      "source": [
        "import pandas as pd\n",
        "import os\n",
        "import matplotlib.pyplot as plt\n",
        "import matplotlib\n",
        "import numpy as np\n",
        "from datetime import datetime"
      ],
      "execution_count": 3,
      "outputs": []
    },
    {
      "cell_type": "code",
      "metadata": {
        "colab": {
          "base_uri": "https://localhost:8080/"
        },
        "id": "NR7PgjItpH_O",
        "outputId": "efe9d2ea-928f-4270-9f7a-2ae8f6a13feb"
      },
      "source": [
        "from google.colab import drive\n",
        "drive.mount('/content/gdrive')"
      ],
      "execution_count": 4,
      "outputs": [
        {
          "output_type": "stream",
          "text": [
            "Drive already mounted at /content/gdrive; to attempt to forcibly remount, call drive.mount(\"/content/gdrive\", force_remount=True).\n"
          ],
          "name": "stdout"
        }
      ]
    },
    {
      "cell_type": "code",
      "metadata": {
        "id": "ow6ZxINQpICh"
      },
      "source": [
        "os.chdir(\"/content/gdrive/My Drive/IITbombay/credit seminar/koyna\")"
      ],
      "execution_count": 5,
      "outputs": []
    },
    {
      "cell_type": "code",
      "metadata": {
        "colab": {
          "base_uri": "https://localhost:8080/",
          "height": 234
        },
        "id": "SlEENi8do8Jh",
        "outputId": "ee5203ae-c8b7-4ac5-fb33-9878beb6f6c9"
      },
      "source": [
        "df = pd.read_excel(\"koyna_series_data.xlsx\",index_col=\"Date\",parse_dates=True)\n",
        "df.head()"
      ],
      "execution_count": 6,
      "outputs": [
        {
          "output_type": "execute_result",
          "data": {
            "text/html": [
              "<div>\n",
              "<style scoped>\n",
              "    .dataframe tbody tr th:only-of-type {\n",
              "        vertical-align: middle;\n",
              "    }\n",
              "\n",
              "    .dataframe tbody tr th {\n",
              "        vertical-align: top;\n",
              "    }\n",
              "\n",
              "    .dataframe thead th {\n",
              "        text-align: right;\n",
              "    }\n",
              "</style>\n",
              "<table border=\"1\" class=\"dataframe\">\n",
              "  <thead>\n",
              "    <tr style=\"text-align: right;\">\n",
              "      <th></th>\n",
              "      <th>Koyna</th>\n",
              "      <th>Mahabaleshwar</th>\n",
              "      <th>Navaja</th>\n",
              "      <th>Kargaon</th>\n",
              "      <th>Kati</th>\n",
              "      <th>Bamnoli</th>\n",
              "      <th>Pratapgad</th>\n",
              "      <th>Sonat</th>\n",
              "      <th>Valvan</th>\n",
              "    </tr>\n",
              "    <tr>\n",
              "      <th>Date</th>\n",
              "      <th></th>\n",
              "      <th></th>\n",
              "      <th></th>\n",
              "      <th></th>\n",
              "      <th></th>\n",
              "      <th></th>\n",
              "      <th></th>\n",
              "      <th></th>\n",
              "      <th></th>\n",
              "    </tr>\n",
              "  </thead>\n",
              "  <tbody>\n",
              "    <tr>\n",
              "      <th>1961-01-01</th>\n",
              "      <td>0.0</td>\n",
              "      <td>0.0</td>\n",
              "      <td>0.0</td>\n",
              "      <td>0.0</td>\n",
              "      <td>0.0</td>\n",
              "      <td>0.0</td>\n",
              "      <td>0.0</td>\n",
              "      <td>0.0</td>\n",
              "      <td>0.0</td>\n",
              "    </tr>\n",
              "    <tr>\n",
              "      <th>1961-01-02</th>\n",
              "      <td>0.0</td>\n",
              "      <td>0.0</td>\n",
              "      <td>0.0</td>\n",
              "      <td>0.0</td>\n",
              "      <td>0.0</td>\n",
              "      <td>0.0</td>\n",
              "      <td>0.0</td>\n",
              "      <td>0.0</td>\n",
              "      <td>0.0</td>\n",
              "    </tr>\n",
              "    <tr>\n",
              "      <th>1961-01-03</th>\n",
              "      <td>0.0</td>\n",
              "      <td>0.0</td>\n",
              "      <td>0.0</td>\n",
              "      <td>0.0</td>\n",
              "      <td>0.0</td>\n",
              "      <td>0.0</td>\n",
              "      <td>0.0</td>\n",
              "      <td>0.0</td>\n",
              "      <td>0.0</td>\n",
              "    </tr>\n",
              "    <tr>\n",
              "      <th>1961-01-04</th>\n",
              "      <td>0.0</td>\n",
              "      <td>0.0</td>\n",
              "      <td>0.0</td>\n",
              "      <td>0.0</td>\n",
              "      <td>0.0</td>\n",
              "      <td>0.0</td>\n",
              "      <td>0.0</td>\n",
              "      <td>0.0</td>\n",
              "      <td>0.0</td>\n",
              "    </tr>\n",
              "    <tr>\n",
              "      <th>1961-01-05</th>\n",
              "      <td>0.0</td>\n",
              "      <td>0.0</td>\n",
              "      <td>0.0</td>\n",
              "      <td>0.0</td>\n",
              "      <td>0.0</td>\n",
              "      <td>0.0</td>\n",
              "      <td>0.0</td>\n",
              "      <td>0.0</td>\n",
              "      <td>0.0</td>\n",
              "    </tr>\n",
              "  </tbody>\n",
              "</table>\n",
              "</div>"
            ],
            "text/plain": [
              "            Koyna  Mahabaleshwar  Navaja  ...  Pratapgad  Sonat  Valvan\n",
              "Date                                      ...                          \n",
              "1961-01-01    0.0            0.0     0.0  ...        0.0    0.0     0.0\n",
              "1961-01-02    0.0            0.0     0.0  ...        0.0    0.0     0.0\n",
              "1961-01-03    0.0            0.0     0.0  ...        0.0    0.0     0.0\n",
              "1961-01-04    0.0            0.0     0.0  ...        0.0    0.0     0.0\n",
              "1961-01-05    0.0            0.0     0.0  ...        0.0    0.0     0.0\n",
              "\n",
              "[5 rows x 9 columns]"
            ]
          },
          "metadata": {
            "tags": []
          },
          "execution_count": 6
        }
      ]
    },
    {
      "cell_type": "code",
      "metadata": {
        "colab": {
          "base_uri": "https://localhost:8080/",
          "height": 351
        },
        "id": "Bz7BCWzJ1yRo",
        "outputId": "8bf8cf91-92c6-4a04-dc93-14ee4162c88e"
      },
      "source": [
        "df['Koyna'].plot(figsize=(20,5))\n",
        "plt.xlabel('Length of data')\n",
        "plt.ylabel('Precipitaion(mm)')"
      ],
      "execution_count": 7,
      "outputs": [
        {
          "output_type": "execute_result",
          "data": {
            "text/plain": [
              "Text(0, 0.5, 'Precipitaion(mm)')"
            ]
          },
          "metadata": {
            "tags": []
          },
          "execution_count": 7
        },
        {
          "output_type": "display_data",
          "data": {
            "image/png": "[encoded data removed]",
            "text/plain": [
              "<Figure size 1440x360 with 1 Axes>"
            ]
          },
          "metadata": {
            "tags": [],
            "needs_background": "light"
          }
        }
      ]
    },
    {
      "cell_type": "code",
      "metadata": {
        "colab": {
          "base_uri": "https://localhost:8080/",
          "height": 234
        },
        "id": "moZkJM_3o8T2",
        "outputId": "5f83ce93-cf03-4468-fb3d-abf10bb9950a"
      },
      "source": [
        "ampd = df.resample('Y').max()\n",
        "ampd.head()"
      ],
      "execution_count": 8,
      "outputs": [
        {
          "output_type": "execute_result",
          "data": {
            "text/html": [
              "<div>\n",
              "<style scoped>\n",
              "    .dataframe tbody tr th:only-of-type {\n",
              "        vertical-align: middle;\n",
              "    }\n",
              "\n",
              "    .dataframe tbody tr th {\n",
              "        vertical-align: top;\n",
              "    }\n",
              "\n",
              "    .dataframe thead th {\n",
              "        text-align: right;\n",
              "    }\n",
              "</style>\n",
              "<table border=\"1\" class=\"dataframe\">\n",
              "  <thead>\n",
              "    <tr style=\"text-align: right;\">\n",
              "      <th></th>\n",
              "      <th>Koyna</th>\n",
              "      <th>Mahabaleshwar</th>\n",
              "      <th>Navaja</th>\n",
              "      <th>Kargaon</th>\n",
              "      <th>Kati</th>\n",
              "      <th>Bamnoli</th>\n",
              "      <th>Pratapgad</th>\n",
              "      <th>Sonat</th>\n",
              "      <th>Valvan</th>\n",
              "    </tr>\n",
              "    <tr>\n",
              "      <th>Date</th>\n",
              "      <th></th>\n",
              "      <th></th>\n",
              "      <th></th>\n",
              "      <th></th>\n",
              "      <th></th>\n",
              "      <th></th>\n",
              "      <th></th>\n",
              "      <th></th>\n",
              "      <th></th>\n",
              "    </tr>\n",
              "  </thead>\n",
              "  <tbody>\n",
              "    <tr>\n",
              "      <th>1961-12-31</th>\n",
              "      <td>296.2</td>\n",
              "      <td>362.7</td>\n",
              "      <td>245.0</td>\n",
              "      <td>0.0</td>\n",
              "      <td>360.2</td>\n",
              "      <td>262.25</td>\n",
              "      <td>343.4</td>\n",
              "      <td>286.0</td>\n",
              "      <td>374.0</td>\n",
              "    </tr>\n",
              "    <tr>\n",
              "      <th>1962-12-31</th>\n",
              "      <td>274.5</td>\n",
              "      <td>250.4</td>\n",
              "      <td>259.5</td>\n",
              "      <td>0.0</td>\n",
              "      <td>174.5</td>\n",
              "      <td>174.00</td>\n",
              "      <td>220.5</td>\n",
              "      <td>226.9</td>\n",
              "      <td>371.9</td>\n",
              "    </tr>\n",
              "    <tr>\n",
              "      <th>1963-12-31</th>\n",
              "      <td>367.7</td>\n",
              "      <td>371.2</td>\n",
              "      <td>248.6</td>\n",
              "      <td>0.0</td>\n",
              "      <td>224.9</td>\n",
              "      <td>158.80</td>\n",
              "      <td>307.3</td>\n",
              "      <td>314.7</td>\n",
              "      <td>342.7</td>\n",
              "    </tr>\n",
              "    <tr>\n",
              "      <th>1964-12-31</th>\n",
              "      <td>249.0</td>\n",
              "      <td>229.3</td>\n",
              "      <td>300.7</td>\n",
              "      <td>0.0</td>\n",
              "      <td>209.8</td>\n",
              "      <td>117.70</td>\n",
              "      <td>283.4</td>\n",
              "      <td>192.2</td>\n",
              "      <td>352.6</td>\n",
              "    </tr>\n",
              "    <tr>\n",
              "      <th>1965-12-31</th>\n",
              "      <td>404.0</td>\n",
              "      <td>279.4</td>\n",
              "      <td>529.4</td>\n",
              "      <td>0.0</td>\n",
              "      <td>309.0</td>\n",
              "      <td>181.75</td>\n",
              "      <td>291.6</td>\n",
              "      <td>243.8</td>\n",
              "      <td>509.8</td>\n",
              "    </tr>\n",
              "  </tbody>\n",
              "</table>\n",
              "</div>"
            ],
            "text/plain": [
              "            Koyna  Mahabaleshwar  Navaja  ...  Pratapgad  Sonat  Valvan\n",
              "Date                                      ...                          \n",
              "1961-12-31  296.2          362.7   245.0  ...      343.4  286.0   374.0\n",
              "1962-12-31  274.5          250.4   259.5  ...      220.5  226.9   371.9\n",
              "1963-12-31  367.7          371.2   248.6  ...      307.3  314.7   342.7\n",
              "1964-12-31  249.0          229.3   300.7  ...      283.4  192.2   352.6\n",
              "1965-12-31  404.0          279.4   529.4  ...      291.6  243.8   509.8\n",
              "\n",
              "[5 rows x 9 columns]"
            ]
          },
          "metadata": {
            "tags": []
          },
          "execution_count": 8
        }
      ]
    },
    {
      "cell_type": "code",
      "metadata": {
        "id": "21YRn2AMo8a2"
      },
      "source": [
        "koyna_data=ampd['Koyna']\n",
        "mahabaleshwar_data=ampd['Mahabaleshwar'].truncate(before = '1980-01-01')\n",
        "navaja_data=ampd['Navaja'].truncate(before='1979-01-01')\n",
        "kargaon_data=ampd['Kargaon'].truncate(before='1993-01-01')\n",
        "kati_data=ampd['Kati'].truncate(before='1979-01-01')\n",
        "bamnoli_data=ampd['Bamnoli'].truncate(before='1979-01-01')\n",
        "valvan_data=ampd['Valvan'].truncate(before='1979-01-01')\n",
        "sonat_data=ampd['Sonat'].truncate(before='1982-01-01')\n",
        "pratapgad_data=ampd['Pratapgad'].truncate(before='1979-01-01')"
      ],
      "execution_count": 9,
      "outputs": []
    },
    {
      "cell_type": "code",
      "metadata": {
        "id": "VEvxtIqgiqUz"
      },
      "source": [
        "all_data = [koyna_data,mahabaleshwar_data,navaja_data,kargaon_data,kati_data,bamnoli_data,valvan_data,sonat_data,pratapgad_data]"
      ],
      "execution_count": 10,
      "outputs": []
    },
    {
      "cell_type": "code",
      "metadata": {
        "colab": {
          "base_uri": "https://localhost:8080/",
          "height": 351
        },
        "id": "KH5qJ6sk1qBt",
        "outputId": "057a0444-97df-4cff-8ef3-1bb648f65fa4"
      },
      "source": [
        "koyna_data.plot(figsize=(20,5)) #kati grided station\n",
        "plt.xlabel('Time(year)')\n",
        "plt.ylabel('Precipitaion(mm)')"
      ],
      "execution_count": 11,
      "outputs": [
        {
          "output_type": "execute_result",
          "data": {
            "text/plain": [
              "Text(0, 0.5, 'Precipitaion(mm)')"
            ]
          },
          "metadata": {
            "tags": []
          },
          "execution_count": 11
        },
        {
          "output_type": "display_data",
          "data": {
            "image/png": "[encoded data removed]",
            "text/plain": [
              "<Figure size 1440x360 with 1 Axes>"
            ]
          },
          "metadata": {
            "tags": [],
            "needs_background": "light"
          }
        }
      ]
    },
    {
      "cell_type": "code",
      "metadata": {
        "id": "ZRvAi-RnurlV"
      },
      "source": [
        "kfreq=[]\n",
        "mu = []\n",
        "std1 = []\n",
        "max = []"
      ],
      "execution_count": 12,
      "outputs": []
    },
    {
      "cell_type": "code",
      "metadata": {
        "colab": {
          "base_uri": "https://localhost:8080/"
        },
        "id": "rDesXPjEpWCb",
        "outputId": "edb0486c-a18a-47e1-bd0c-183ff4417837"
      },
      "source": [
        "for i in all_data:\n",
        "  ampd_avg = i.mean()\n",
        "  mu.append(ampd_avg)\n",
        "  ampd_std = i.std()\n",
        "  std1.append(ampd_std)\n",
        "  ampd_w_max=i.drop(i.idxmax())\n",
        "  ampd_w_max_avg = ampd_w_max.mean()\n",
        "  ampd_w_max_std=ampd_w_max.std()\n",
        "  x_max=i.max()\n",
        "  max.append(x_max)\n",
        "  k=((x_max - ampd_w_max_avg)/ampd_w_max_std)\n",
        "  PMP = ampd_avg + k*(ampd_std)\n",
        "  kfreq.append(k)\n",
        "  print(k,PMP)"
      ],
      "execution_count": 13,
      "outputs": [
        {
          "output_type": "stream",
          "text": [
            "4.4715437837077046 611.2030266895574\n",
            "2.952185180878987 515.4319305009708\n",
            "2.7798613072482623 580.2994744487585\n",
            "1.8045918234290954 333.65087578365797\n",
            "2.4864698007774932 357.0874192247436\n",
            "3.5987571923749853 333.95089653345684\n",
            "4.613239127920387 728.2117997977145\n",
            "2.6001677025833527 396.5037077012818\n",
            "2.8332228549407388 529.0941234387078\n"
          ],
          "name": "stdout"
        }
      ]
    },
    {
      "cell_type": "code",
      "metadata": {
        "colab": {
          "base_uri": "https://localhost:8080/"
        },
        "id": "ExkXm_mbnF5Y",
        "outputId": "01da4d6e-0f7d-4a88-9ed1-6227aafecab6"
      },
      "source": [
        "max"
      ],
      "execution_count": 14,
      "outputs": [
        {
          "output_type": "execute_result",
          "data": {
            "text/plain": [
              "[558.0, 490.0, 552.0, 325.0, 343.154, 310.75, 640.0, 380.0, 506.0]"
            ]
          },
          "metadata": {
            "tags": []
          },
          "execution_count": 14
        }
      ]
    },
    {
      "cell_type": "code",
      "metadata": {
        "colab": {
          "base_uri": "https://localhost:8080/"
        },
        "id": "BmieoYZOjSDx",
        "outputId": "95316e1d-18e1-4671-b115-d3de2a6ac3b8"
      },
      "source": [
        "kfreq,mu ,std1"
      ],
      "execution_count": 15,
      "outputs": [
        {
          "output_type": "execute_result",
          "data": {
            "text/plain": [
              "([4.4715437837077046,\n",
              "  2.952185180878987,\n",
              "  2.7798613072482623,\n",
              "  1.8045918234290954,\n",
              "  2.4864698007774932,\n",
              "  3.5987571923749853,\n",
              "  4.613239127920387,\n",
              "  2.6001677025833527,\n",
              "  2.8332228549407388],\n",
              " [274.6358490566038,\n",
              "  309.3970588235294,\n",
              "  323.05,\n",
              "  241.64714285714285,\n",
              "  207.33982857142857,\n",
              "  189.8522857142857,\n",
              "  339.3416,\n",
              "  243.44,\n",
              "  325.05942857142855],\n",
              " [75.2686754089836,\n",
              "  69.79063271908177,\n",
              "  92.54039896810728,\n",
              "  50.983126340276264,\n",
              "  60.22497864502135,\n",
              "  40.041215096279906,\n",
              "  84.29439467904068,\n",
              "  58.86685983723587,\n",
              "  72.01505328515606])"
            ]
          },
          "metadata": {
            "tags": []
          },
          "execution_count": 15
        }
      ]
    },
    {
      "cell_type": "code",
      "metadata": {
        "colab": {
          "base_uri": "https://localhost:8080/"
        },
        "id": "4Dxl3SeSvcRH",
        "outputId": "2d031a4b-58ec-40c2-fedb-4c7833934a09"
      },
      "source": [
        "kmax=4.613239127920387\n",
        "for i in all_data:\n",
        "  ampd_avg = i.mean()\n",
        "  ampd_std = i.std()\n",
        "  PMP = ampd_avg + kmax*(ampd_std)\n",
        "  print(PMP)"
      ],
      "execution_count": 16,
      "outputs": [
        {
          "output_type": "stream",
          "text": [
            "621.868247560066\n",
            "631.3579364455182\n",
            "749.9609894330359\n",
            "476.84449615381385\n",
            "485.17205653481085\n",
            "374.57198592592067\n",
            "728.2117997977145\n",
            "515.0069011389417\n",
            "657.2820901857822\n"
          ],
          "name": "stdout"
        }
      ]
    },
    {
      "cell_type": "code",
      "metadata": {
        "colab": {
          "base_uri": "https://localhost:8080/",
          "height": 279
        },
        "id": "GAFBCf9guyiy",
        "outputId": "3f2f9647-35bf-4fdf-b42b-f717ad625e63"
      },
      "source": [
        "plt.scatter(mu,kfreq)\n",
        "plt.xlabel('Mean of AMDP(mm)')\n",
        "plt.ylabel('Frequency factor(k)')\n",
        "plt.xlim(0, 500)\n",
        "plt.ylim(0, 15)\n",
        "plt.show()"
      ],
      "execution_count": 17,
      "outputs": [
        {
          "output_type": "display_data",
          "data": {
            "image/png": "[encoded data removed]",
            "text/plain": [
              "<Figure size 432x288 with 1 Axes>"
            ]
          },
          "metadata": {
            "tags": [],
            "needs_background": "light"
          }
        }
      ]
    },
    {
      "cell_type": "code",
      "metadata": {
        "colab": {
          "base_uri": "https://localhost:8080/"
        },
        "id": "Wi8x24_HpfhP",
        "outputId": "948b9fc0-ddad-400f-951f-75fcdd49a7ca"
      },
      "source": [
        "pip install pymannkendall"
      ],
      "execution_count": 18,
      "outputs": [
        {
          "output_type": "stream",
          "text": [
            "Collecting pymannkendall\n",
            "  Downloading https://files.pythonhosted.org/packages/03/72/7eeda485b586ddaaa274225bb2aa365f3a24c94790283d7c230bcecbb28e/pymannkendall-1.4.2-py3-none-any.whl\n",
            "Requirement already satisfied: scipy in /usr/local/lib/python3.7/dist-packages (from pymannkendall) (1.4.1)\n",
            "Requirement already satisfied: numpy in /usr/local/lib/python3.7/dist-packages (from pymannkendall) (1.19.5)\n",
            "Installing collected packages: pymannkendall\n",
            "Successfully installed pymannkendall-1.4.2\n"
          ],
          "name": "stdout"
        }
      ]
    },
    {
      "cell_type": "code",
      "metadata": {
        "colab": {
          "base_uri": "https://localhost:8080/"
        },
        "id": "vARXb0uApjRV",
        "outputId": "5b7720a0-37b1-49b7-8ec9-03485e27ef56"
      },
      "source": [
        "import pymannkendall as mk\n",
        "for i in all_data:\n",
        "  result = mk.original_test(i)\n",
        "  print(result)"
      ],
      "execution_count": 19,
      "outputs": [
        {
          "output_type": "stream",
          "text": [
            "Mann_Kendall_Test(trend='no trend', h=False, p=0.28978739478761395, z=-1.0585881306695468, Tau=-0.10087082728592163, s=-139.0, var_s=16994.333333333332, slope=-0.7996118012422363, intercept=290.78990683229813)\n",
            "Mann_Kendall_Test(trend='no trend', h=False, p=0.08024188634387097, z=1.7492843121452852, Tau=0.21212121212121213, s=119.0, var_s=4550.333333333333, slope=2.375, intercept=257.3625)\n",
            "Mann_Kendall_Test(trend='no trend', h=False, p=0.5319782309813548, z=0.6249890711264533, Tau=0.07563025210084033, s=45.0, var_s=4956.333333333333, slope=1.3636363636363635, intercept=305.6181818181818)\n",
            "Mann_Kendall_Test(trend='no trend', h=False, p=0.2638720094732372, z=1.117286117105732, Tau=0.18095238095238095, s=38.0, var_s=1096.6666666666667, slope=3.218690476190476, intercept=203.81309523809523)\n",
            "Mann_Kendall_Test(trend='no trend', h=False, p=0.4431544530574594, z=0.7668773306964645, Tau=0.09243697478991597, s=55.0, var_s=4958.333333333333, slope=1.0, intercept=185.0)\n",
            "Mann_Kendall_Test(trend='no trend', h=False, p=0.3341956312100631, z=-0.9656973793955479, Tau=-0.11596638655462185, s=-69.0, var_s=4958.333333333333, slope=-0.7083333333333334, intercept=201.04166666666666)\n",
            "Mann_Kendall_Test(trend='no trend', h=False, p=0.12858476106121564, z=-1.5197064847833004, Tau=-0.1815126050420168, s=-108.0, var_s=4957.333333333333, slope=-1.9333333333333333, intercept=369.8666666666667)\n",
            "Mann_Kendall_Test(trend='no trend', h=False, p=0.506018838552545, z=0.6650494915198772, Tau=0.0846774193548387, s=42.0, var_s=3800.6666666666665, slope=0.7602499999999999, intercept=225.63112500000003)\n",
            "Mann_Kendall_Test(trend='no trend', h=False, p=0.1396094673203636, z=-1.4772468953897988, Tau=-0.17647058823529413, s=-105.0, var_s=4956.333333333333, slope=-2.111111111111111, intercept=349.8888888888889)\n"
          ],
          "name": "stdout"
        }
      ]
    },
    {
      "cell_type": "markdown",
      "metadata": {
        "id": "gUUsbYpzw_Ei"
      },
      "source": [
        "#gridded data"
      ]
    },
    {
      "cell_type": "code",
      "metadata": {
        "id": "_6nqucVyxGo6"
      },
      "source": [
        "os.chdir(\"/content/gdrive/My Drive/IITbombay/credit seminar/koyna\")"
      ],
      "execution_count": 20,
      "outputs": []
    },
    {
      "cell_type": "code",
      "metadata": {
        "colab": {
          "base_uri": "https://localhost:8080/",
          "height": 234
        },
        "id": "_7LNTWoOxLbS",
        "outputId": "1995faf0-da25-4131-a51a-c6da5009c5c1"
      },
      "source": [
        "df = pd.read_excel(\"koynapmp.xlsx\",index_col=\"Date\",parse_dates=True)\n",
        "df.head()"
      ],
      "execution_count": 21,
      "outputs": [
        {
          "output_type": "execute_result",
          "data": {
            "text/html": [
              "<div>\n",
              "<style scoped>\n",
              "    .dataframe tbody tr th:only-of-type {\n",
              "        vertical-align: middle;\n",
              "    }\n",
              "\n",
              "    .dataframe tbody tr th {\n",
              "        vertical-align: top;\n",
              "    }\n",
              "\n",
              "    .dataframe thead th {\n",
              "        text-align: right;\n",
              "    }\n",
              "</style>\n",
              "<table border=\"1\" class=\"dataframe\">\n",
              "  <thead>\n",
              "    <tr style=\"text-align: right;\">\n",
              "      <th></th>\n",
              "      <th>17/73.25</th>\n",
              "      <th>17/73.5</th>\n",
              "      <th>17.25/73.25</th>\n",
              "      <th>17.25/73.5</th>\n",
              "      <th>17.5/73</th>\n",
              "      <th>17.5/73.25</th>\n",
              "      <th>17.5/73.5</th>\n",
              "      <th>17.75/73</th>\n",
              "      <th>17.75/73.25</th>\n",
              "      <th>17.75/73.5</th>\n",
              "    </tr>\n",
              "    <tr>\n",
              "      <th>Date</th>\n",
              "      <th></th>\n",
              "      <th></th>\n",
              "      <th></th>\n",
              "      <th></th>\n",
              "      <th></th>\n",
              "      <th></th>\n",
              "      <th></th>\n",
              "      <th></th>\n",
              "      <th></th>\n",
              "      <th></th>\n",
              "    </tr>\n",
              "  </thead>\n",
              "  <tbody>\n",
              "    <tr>\n",
              "      <th>1901-01-01</th>\n",
              "      <td>0.0</td>\n",
              "      <td>0.0</td>\n",
              "      <td>0.0</td>\n",
              "      <td>0.0</td>\n",
              "      <td>0.0</td>\n",
              "      <td>0.0</td>\n",
              "      <td>0.0</td>\n",
              "      <td>0.0</td>\n",
              "      <td>0.0</td>\n",
              "      <td>0.0</td>\n",
              "    </tr>\n",
              "    <tr>\n",
              "      <th>1901-01-02</th>\n",
              "      <td>0.0</td>\n",
              "      <td>0.0</td>\n",
              "      <td>0.0</td>\n",
              "      <td>0.0</td>\n",
              "      <td>0.0</td>\n",
              "      <td>0.0</td>\n",
              "      <td>0.0</td>\n",
              "      <td>0.0</td>\n",
              "      <td>0.0</td>\n",
              "      <td>0.0</td>\n",
              "    </tr>\n",
              "    <tr>\n",
              "      <th>1901-01-03</th>\n",
              "      <td>0.0</td>\n",
              "      <td>0.0</td>\n",
              "      <td>0.0</td>\n",
              "      <td>0.0</td>\n",
              "      <td>0.0</td>\n",
              "      <td>0.0</td>\n",
              "      <td>0.0</td>\n",
              "      <td>0.0</td>\n",
              "      <td>0.0</td>\n",
              "      <td>0.0</td>\n",
              "    </tr>\n",
              "    <tr>\n",
              "      <th>1901-01-04</th>\n",
              "      <td>0.0</td>\n",
              "      <td>0.0</td>\n",
              "      <td>0.0</td>\n",
              "      <td>0.0</td>\n",
              "      <td>0.0</td>\n",
              "      <td>0.0</td>\n",
              "      <td>0.0</td>\n",
              "      <td>0.0</td>\n",
              "      <td>0.0</td>\n",
              "      <td>0.0</td>\n",
              "    </tr>\n",
              "    <tr>\n",
              "      <th>1901-01-05</th>\n",
              "      <td>0.0</td>\n",
              "      <td>0.0</td>\n",
              "      <td>0.0</td>\n",
              "      <td>0.0</td>\n",
              "      <td>0.0</td>\n",
              "      <td>0.0</td>\n",
              "      <td>0.0</td>\n",
              "      <td>0.0</td>\n",
              "      <td>0.0</td>\n",
              "      <td>0.0</td>\n",
              "    </tr>\n",
              "  </tbody>\n",
              "</table>\n",
              "</div>"
            ],
            "text/plain": [
              "            17/73.25  17/73.5  17.25/73.25  ...  17.75/73  17.75/73.25  17.75/73.5\n",
              "Date                                        ...                                   \n",
              "1901-01-01       0.0      0.0          0.0  ...       0.0          0.0         0.0\n",
              "1901-01-02       0.0      0.0          0.0  ...       0.0          0.0         0.0\n",
              "1901-01-03       0.0      0.0          0.0  ...       0.0          0.0         0.0\n",
              "1901-01-04       0.0      0.0          0.0  ...       0.0          0.0         0.0\n",
              "1901-01-05       0.0      0.0          0.0  ...       0.0          0.0         0.0\n",
              "\n",
              "[5 rows x 10 columns]"
            ]
          },
          "metadata": {
            "tags": []
          },
          "execution_count": 21
        }
      ]
    },
    {
      "cell_type": "code",
      "metadata": {
        "colab": {
          "base_uri": "https://localhost:8080/",
          "height": 234
        },
        "id": "cCzh1ByZxTLk",
        "outputId": "e8613d9c-a48f-4736-a449-18853f430edd"
      },
      "source": [
        "ampd = df.resample('Y').max()\n",
        "ampd.head()"
      ],
      "execution_count": 22,
      "outputs": [
        {
          "output_type": "execute_result",
          "data": {
            "text/html": [
              "<div>\n",
              "<style scoped>\n",
              "    .dataframe tbody tr th:only-of-type {\n",
              "        vertical-align: middle;\n",
              "    }\n",
              "\n",
              "    .dataframe tbody tr th {\n",
              "        vertical-align: top;\n",
              "    }\n",
              "\n",
              "    .dataframe thead th {\n",
              "        text-align: right;\n",
              "    }\n",
              "</style>\n",
              "<table border=\"1\" class=\"dataframe\">\n",
              "  <thead>\n",
              "    <tr style=\"text-align: right;\">\n",
              "      <th></th>\n",
              "      <th>17/73.25</th>\n",
              "      <th>17/73.5</th>\n",
              "      <th>17.25/73.25</th>\n",
              "      <th>17.25/73.5</th>\n",
              "      <th>17.5/73</th>\n",
              "      <th>17.5/73.25</th>\n",
              "      <th>17.5/73.5</th>\n",
              "      <th>17.75/73</th>\n",
              "      <th>17.75/73.25</th>\n",
              "      <th>17.75/73.5</th>\n",
              "    </tr>\n",
              "    <tr>\n",
              "      <th>Date</th>\n",
              "      <th></th>\n",
              "      <th></th>\n",
              "      <th></th>\n",
              "      <th></th>\n",
              "      <th></th>\n",
              "      <th></th>\n",
              "      <th></th>\n",
              "      <th></th>\n",
              "      <th></th>\n",
              "      <th></th>\n",
              "    </tr>\n",
              "  </thead>\n",
              "  <tbody>\n",
              "    <tr>\n",
              "      <th>1901-12-31</th>\n",
              "      <td>92.2</td>\n",
              "      <td>89.7</td>\n",
              "      <td>93.0</td>\n",
              "      <td>73.5</td>\n",
              "      <td>148.3</td>\n",
              "      <td>122.1</td>\n",
              "      <td>130.7</td>\n",
              "      <td>211.2</td>\n",
              "      <td>173.5</td>\n",
              "      <td>216.5</td>\n",
              "    </tr>\n",
              "    <tr>\n",
              "      <th>1902-12-31</th>\n",
              "      <td>122.5</td>\n",
              "      <td>118.8</td>\n",
              "      <td>172.0</td>\n",
              "      <td>131.6</td>\n",
              "      <td>220.6</td>\n",
              "      <td>216.2</td>\n",
              "      <td>206.8</td>\n",
              "      <td>240.3</td>\n",
              "      <td>165.2</td>\n",
              "      <td>161.3</td>\n",
              "    </tr>\n",
              "    <tr>\n",
              "      <th>1903-12-31</th>\n",
              "      <td>171.3</td>\n",
              "      <td>145.1</td>\n",
              "      <td>113.3</td>\n",
              "      <td>101.0</td>\n",
              "      <td>106.7</td>\n",
              "      <td>113.5</td>\n",
              "      <td>131.9</td>\n",
              "      <td>165.5</td>\n",
              "      <td>174.2</td>\n",
              "      <td>177.1</td>\n",
              "    </tr>\n",
              "    <tr>\n",
              "      <th>1904-12-31</th>\n",
              "      <td>221.4</td>\n",
              "      <td>177.6</td>\n",
              "      <td>171.4</td>\n",
              "      <td>135.4</td>\n",
              "      <td>163.5</td>\n",
              "      <td>162.8</td>\n",
              "      <td>255.9</td>\n",
              "      <td>243.9</td>\n",
              "      <td>247.4</td>\n",
              "      <td>192.7</td>\n",
              "    </tr>\n",
              "    <tr>\n",
              "      <th>1905-12-31</th>\n",
              "      <td>86.0</td>\n",
              "      <td>76.2</td>\n",
              "      <td>84.0</td>\n",
              "      <td>79.2</td>\n",
              "      <td>126.1</td>\n",
              "      <td>100.0</td>\n",
              "      <td>101.9</td>\n",
              "      <td>136.4</td>\n",
              "      <td>205.4</td>\n",
              "      <td>193.9</td>\n",
              "    </tr>\n",
              "  </tbody>\n",
              "</table>\n",
              "</div>"
            ],
            "text/plain": [
              "            17/73.25  17/73.5  17.25/73.25  ...  17.75/73  17.75/73.25  17.75/73.5\n",
              "Date                                        ...                                   \n",
              "1901-12-31      92.2     89.7         93.0  ...     211.2        173.5       216.5\n",
              "1902-12-31     122.5    118.8        172.0  ...     240.3        165.2       161.3\n",
              "1903-12-31     171.3    145.1        113.3  ...     165.5        174.2       177.1\n",
              "1904-12-31     221.4    177.6        171.4  ...     243.9        247.4       192.7\n",
              "1905-12-31      86.0     76.2         84.0  ...     136.4        205.4       193.9\n",
              "\n",
              "[5 rows x 10 columns]"
            ]
          },
          "metadata": {
            "tags": []
          },
          "execution_count": 22
        }
      ]
    },
    {
      "cell_type": "code",
      "metadata": {
        "id": "OB9oAfv4vF-q"
      },
      "source": [
        "grid_1=ampd['17.75/73.5'].truncate(before = '1979-01-01')\n",
        "grid_2=ampd['17.5/73.5'].truncate(before = '1961-01-01')"
      ],
      "execution_count": 23,
      "outputs": []
    },
    {
      "cell_type": "code",
      "metadata": {
        "id": "oYSJN3-fxB2B"
      },
      "source": [
        "all_data = [grid_1,grid_2]"
      ],
      "execution_count": 24,
      "outputs": []
    },
    {
      "cell_type": "code",
      "metadata": {
        "colab": {
          "base_uri": "https://localhost:8080/",
          "height": 282
        },
        "id": "49dHXvTJ2D49",
        "outputId": "9b66a32a-08db-4437-ded6-0bee460348bd"
      },
      "source": [
        "plt.plot(grid_1)"
      ],
      "execution_count": 25,
      "outputs": [
        {
          "output_type": "execute_result",
          "data": {
            "text/plain": [
              "[<matplotlib.lines.Line2D at 0x7f080ac42510>]"
            ]
          },
          "metadata": {
            "tags": []
          },
          "execution_count": 25
        },
        {
          "output_type": "display_data",
          "data": {
            "image/png": "[encoded data removed]",
            "text/plain": [
              "<Figure size 432x288 with 1 Axes>"
            ]
          },
          "metadata": {
            "tags": [],
            "needs_background": "light"
          }
        }
      ]
    },
    {
      "cell_type": "code",
      "metadata": {
        "id": "PmLfqviEyJy3"
      },
      "source": [
        "kfreq=[]\n",
        "mu = []\n",
        "std1 = []\n",
        "max = []"
      ],
      "execution_count": 26,
      "outputs": []
    },
    {
      "cell_type": "code",
      "metadata": {
        "colab": {
          "base_uri": "https://localhost:8080/"
        },
        "id": "yvTDw6SUyNL0",
        "outputId": "605fd901-8ccf-4ef4-c7a7-d6f9cbd77e80"
      },
      "source": [
        "for i in all_data:\n",
        "  ampd_avg = i.mean()\n",
        "  mu.append(ampd_avg)\n",
        "  ampd_std = i.std()\n",
        "  std1.append(ampd_std)\n",
        "  ampd_w_max=i.drop(i.idxmax())\n",
        "  ampd_w_max_avg = ampd_w_max.mean()\n",
        "  ampd_w_max_std=ampd_w_max.std()\n",
        "  x_max=i.max()\n",
        "  max.append(x_max)\n",
        "  k=((x_max - ampd_w_max_avg)/ampd_w_max_std)\n",
        "  PMP = ampd_avg + k*(ampd_std)\n",
        "  kfreq.append(k)\n",
        "  print(k,PMP)"
      ],
      "execution_count": 27,
      "outputs": [
        {
          "output_type": "stream",
          "text": [
            "4.582344608865008 405.6523231864295\n",
            "4.305558603803997 380.96350927035866\n"
          ],
          "name": "stdout"
        }
      ]
    },
    {
      "cell_type": "code",
      "metadata": {
        "colab": {
          "base_uri": "https://localhost:8080/"
        },
        "id": "IKB0tESA1KEE",
        "outputId": "b867fe23-cd36-4746-9b73-12321da652d6"
      },
      "source": [
        "x_max"
      ],
      "execution_count": 28,
      "outputs": [
        {
          "output_type": "execute_result",
          "data": {
            "text/plain": [
              "350.3"
            ]
          },
          "metadata": {
            "tags": []
          },
          "execution_count": 28
        }
      ]
    },
    {
      "cell_type": "code",
      "metadata": {
        "id": "Oi0m78KcyQJV"
      },
      "source": [
        "kmax = 4.582344608865008"
      ],
      "execution_count": 29,
      "outputs": []
    },
    {
      "cell_type": "code",
      "metadata": {
        "colab": {
          "base_uri": "https://localhost:8080/"
        },
        "id": "u9Y9Tzrpy6B5",
        "outputId": "b28f500f-13a3-4fcf-e689-4e2c0e3fc14c"
      },
      "source": [
        "for i in all_data:\n",
        "  ampd_avg = i.mean()\n",
        "  ampd_std = i.std()\n",
        "  PMP = ampd_avg + kmax*(ampd_std)\n",
        "  x_m = i.max()\n",
        "  x_mi = i.min()\n",
        "  print(PMP,x_m,x_mi)"
      ],
      "execution_count": 30,
      "outputs": [
        {
          "output_type": "stream",
          "text": [
            "405.6523231864295 357.9 120.2\n",
            "394.1557501671467 350.3 75.2\n"
          ],
          "name": "stdout"
        }
      ]
    },
    {
      "cell_type": "code",
      "metadata": {
        "colab": {
          "base_uri": "https://localhost:8080/"
        },
        "id": "Fw_-RZslycGS",
        "outputId": "6649b679-e7c7-4f0e-959f-aaf1864b8ef8"
      },
      "source": [
        "import pymannkendall as mk\n",
        "for i in all_data:\n",
        "  result = mk.original_test(i)\n",
        "  print(result)"
      ],
      "execution_count": 31,
      "outputs": [
        {
          "output_type": "stream",
          "text": [
            "Mann_Kendall_Test(trend='no trend', h=False, p=0.08317128750194613, z=1.7325747100920124, Tau=0.20672268907563024, s=123.0, var_s=4958.333333333333, slope=1.1111111111111112, intercept=171.51111111111112)\n",
            "Mann_Kendall_Test(trend='no trend', h=False, p=0.09753553857148356, z=-1.656920552352334, Tau=-0.1574746008708273, s=-217.0, var_s=16994.333333333332, slope=-0.6173469387755101, intercept=189.35102040816327)\n"
          ],
          "name": "stdout"
        }
      ]
    }
  ]
}